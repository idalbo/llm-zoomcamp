{
 "cells": [
  {
   "cell_type": "markdown",
   "id": "a30bd8d5",
   "metadata": {},
   "source": [
    "# Homeworks"
   ]
  },
  {
   "cell_type": "code",
   "execution_count": 1,
   "id": "fa9f64cb",
   "metadata": {},
   "outputs": [],
   "source": [
    "from fastembed import TextEmbedding\n",
    "from qdrant_client import QdrantClient, models\n",
    "import numpy as np\n",
    "import requests\n",
    "import json"
   ]
  },
  {
   "cell_type": "code",
   "execution_count": 2,
   "id": "a23f13de",
   "metadata": {},
   "outputs": [],
   "source": [
    "qd_client = QdrantClient(\"http://localhost:6333\")"
   ]
  },
  {
   "cell_type": "markdown",
   "id": "9fa8e769",
   "metadata": {},
   "source": [
    "### Q1 - embedding the query"
   ]
  },
  {
   "cell_type": "code",
   "execution_count": 3,
   "id": "235fa80a",
   "metadata": {},
   "outputs": [
    {
     "name": "stdout",
     "output_type": "stream",
     "text": [
      "length of numpy array is: 512\n",
      "minimal value in the vector is: -0.11726373551188797\n"
     ]
    }
   ],
   "source": [
    "model_handle = \"jinaai/jina-embeddings-v2-small-en\"\n",
    "\n",
    "query_embedding = \"I just discovered the course. Can I join now?\"\n",
    "\n",
    "# embed the query and convert the generator to list\n",
    "embedding = TextEmbedding(model_handle)\n",
    "vector = embedding.embed([query_embedding])\n",
    "vector_list = list(vector)\n",
    "\n",
    "print(f\"length of numpy array is: {len(vector_list[0])}\")\n",
    "print(f\"minimal value in the vector is: {min(vector_list[0])}\")"
   ]
  },
  {
   "cell_type": "markdown",
   "id": "6ceb8e42",
   "metadata": {},
   "source": [
    "### Q2 - cosine similarity"
   ]
  },
  {
   "cell_type": "code",
   "execution_count": 4,
   "id": "09df962a",
   "metadata": {},
   "outputs": [
    {
     "data": {
      "text/plain": [
       "np.float64(1.0)"
      ]
     },
     "execution_count": 4,
     "metadata": {},
     "output_type": "execute_result"
    }
   ],
   "source": [
    "# cosine similarity with itself\n",
    "np.linalg.norm(vector_list)\n",
    "\n",
    "vector_list[0].dot(vector_list[0])"
   ]
  },
  {
   "cell_type": "code",
   "execution_count": 5,
   "id": "6030fa55",
   "metadata": {},
   "outputs": [
    {
     "name": "stdout",
     "output_type": "stream",
     "text": [
      "cosine similarity between vector from Q1 and Q2 is: 0.9008528856818037\n"
     ]
    }
   ],
   "source": [
    "# embed second document\n",
    "doc = 'Can I still join the course after the start date?'\n",
    "vector_doc = embedding.embed([doc])\n",
    "vector_doc_list = list(vector_doc)\n",
    "\n",
    "print(f\"cosine similarity between vector from Q1 and Q2 is: {vector_list[0].dot(vector_doc_list[0])}\")"
   ]
  },
  {
   "cell_type": "markdown",
   "id": "e9d29283",
   "metadata": {},
   "source": [
    "### Q3 and Q4 - ranking by cosine"
   ]
  },
  {
   "cell_type": "code",
   "execution_count": 6,
   "id": "2caa42a9",
   "metadata": {},
   "outputs": [],
   "source": [
    "documents_limited = [\n",
    "    {\n",
    "        'text': \"Yes, even if you don't register, you're still eligible to submit the homeworks.\\nBe aware, however, that there will be deadlines for turning in the final projects. So don't leave everything for the last minute.\",\n",
    "        'section': 'General course-related questions',\n",
    "        'question': 'Course - Can I still join the course after the start date?',\n",
    "        'course': 'data-engineering-zoomcamp'\n",
    "    },\n",
    "    {\n",
    "        'text': 'Yes, we will keep all the materials after the course finishes, so you can follow the course at your own pace after it finishes.\\nYou can also continue looking at the homeworks and continue preparing for the next cohort. I guess you can also start working on your final capstone project.',\n",
    "        'section': 'General course-related questions',\n",
    "        'question': 'Course - Can I follow the course after it finishes?',\n",
    "        'course': 'data-engineering-zoomcamp'\n",
    "    },\n",
    "    {\n",
    "        'text': \"The purpose of this document is to capture frequently asked technical questions\\nThe exact day and hour of the course will be 15th Jan 2024 at 17h00. The course will start with the first  “Office Hours'' live.1\\nSubscribe to course public Google Calendar (it works from Desktop only).\\nRegister before the course starts using this link.\\nJoin the course Telegram channel with announcements.\\nDon’t forget to register in DataTalks.Club's Slack and join the channel.\",\n",
    "        'section': 'General course-related questions',\n",
    "        'question': 'Course - When will the course start?',\n",
    "        'course': 'data-engineering-zoomcamp'\n",
    "    },\n",
    "    {\n",
    "        'text': 'You can start by installing and setting up all the dependencies and requirements:\\nGoogle cloud account\\nGoogle Cloud SDK\\nPython 3 (installed with Anaconda)\\nTerraform\\nGit\\nLook over the prerequisites and syllabus to see if you are comfortable with these subjects.',\n",
    "        'section': 'General course-related questions',\n",
    "        'question': 'Course - What can I do before the course starts?',\n",
    "        'course': 'data-engineering-zoomcamp'\n",
    "    },\n",
    "    {\n",
    "        'text': 'Star the repo! Share it with friends if you find it useful ❣️\\nCreate a PR if you see you can improve the text or the structure of the repository.',\n",
    "        'section': 'General course-related questions',\n",
    "        'question': 'How can we contribute to the course?',\n",
    "        'course': 'data-engineering-zoomcamp'\n",
    "    }\n",
    "]"
   ]
  },
  {
   "cell_type": "code",
   "execution_count": 7,
   "id": "68269f51",
   "metadata": {},
   "outputs": [
    {
     "name": "stdout",
     "output_type": "stream",
     "text": [
      "the index of the most similar document is: 1\n",
      "cosine similarities are: [[0.76296845 0.81823784 0.80853973 0.71330785 0.73044995]]\n"
     ]
    }
   ],
   "source": [
    "# compute emmeddings for the text field in limited documents\n",
    "vectors_q3 = embedding.embed([doc['text'] for doc in documents_limited])\n",
    "vectors_q3_matrix = np.matrix(list(vectors_q3))\n",
    "\n",
    "# compute cosine similarity between the query and all documents\n",
    "cosine_similiraties_q3 = vectors_q3_matrix.dot(vector_list[0])\n",
    "print(f\"the index of the most similar document is: {np.argmax(cosine_similiraties_q3)}\")\n",
    "print(f\"cosine similarities are: {cosine_similiraties_q3}\")"
   ]
  },
  {
   "cell_type": "code",
   "execution_count": 8,
   "id": "c7d0f0a0",
   "metadata": {},
   "outputs": [
    {
     "name": "stdout",
     "output_type": "stream",
     "text": [
      "the index of the most similar document is: 0\n",
      "cosine similarities are: [[0.8514543  0.84365941 0.84082872 0.77551577 0.80860079]]\n"
     ]
    }
   ],
   "source": [
    "# q4, change the input for the embedding\n",
    "vectors_q4 = embedding.embed([doc['question'] + ' ' + doc['text'] for doc in documents_limited])\n",
    "\n",
    "vectors_q4_matrix = np.matrix(list(vectors_q4))\n",
    "\n",
    "# compute cosine similarity between the query and all documents\n",
    "cosine_similiraties_q4 = vectors_q4_matrix.dot(vector_list[0])\n",
    "print(f\"the index of the most similar document is: {np.argmax(cosine_similiraties_q4)}\")\n",
    "print(f\"cosine similarities are: {cosine_similiraties_q4}\")\n",
    "\n",
    "# the similarity with the first document is higher than with the second one if we include the question because it contains\n",
    "# a very similar question thatn the original query, with most of the words matching, hence being encoded in the same way"
   ]
  },
  {
   "cell_type": "markdown",
   "id": "9ca2951e",
   "metadata": {},
   "source": [
    "### Q5 - select embedding model"
   ]
  },
  {
   "cell_type": "code",
   "execution_count": 9,
   "id": "b20cac8e",
   "metadata": {},
   "outputs": [
    {
     "name": "stdout",
     "output_type": "stream",
     "text": [
      "smallest dimensionality: 384\n",
      "models with this dimensionality:\n",
      "- BAAI/bge-small-en\n",
      "- BAAI/bge-small-en-v1.5\n",
      "- snowflake/snowflake-arctic-embed-xs\n",
      "- snowflake/snowflake-arctic-embed-s\n",
      "- sentence-transformers/all-MiniLM-L6-v2\n",
      "- sentence-transformers/paraphrase-multilingual-MiniLM-L12-v2\n"
     ]
    }
   ],
   "source": [
    "models_text_embedding = TextEmbedding.list_supported_models()\n",
    "\n",
    "models_by_dim = {}\n",
    "\n",
    "for model in models_text_embedding:\n",
    "    dim = model['dim']\n",
    "    if dim not in models_by_dim:\n",
    "        models_by_dim[dim] = []\n",
    "    models_by_dim[dim].append(model['model'])\n",
    "\n",
    "smallest_dim = min(models_by_dim.keys())\n",
    "\n",
    "# the smallest dimensionality is 384\n",
    "print(f\"smallest dimensionality: {smallest_dim}\")\n",
    "print(\"models with this dimensionality:\")\n",
    "for model_name in models_by_dim[smallest_dim]:\n",
    "    print(f\"- {model_name}\")"
   ]
  },
  {
   "cell_type": "markdown",
   "id": "e2357bb9",
   "metadata": {},
   "source": [
    "### Q6 -  Indexing with qdrant"
   ]
  },
  {
   "cell_type": "code",
   "execution_count": 10,
   "id": "92265120",
   "metadata": {},
   "outputs": [],
   "source": [
    "# get ml zoomcamp faq records\n",
    "docs_url = 'https://github.com/alexeygrigorev/llm-rag-workshop/raw/main/notebooks/documents.json'\n",
    "docs_response = requests.get(docs_url)\n",
    "documents_raw = docs_response.json()\n",
    "\n",
    "documents = []\n",
    "\n",
    "for course in documents_raw:\n",
    "    course_name = course['course']\n",
    "    if course_name != 'machine-learning-zoomcamp':\n",
    "        continue\n",
    "\n",
    "    for doc in course['documents']:\n",
    "        doc['course'] = course_name\n",
    "        documents.append(doc)"
   ]
  },
  {
   "cell_type": "code",
   "execution_count": 11,
   "id": "d0c608df",
   "metadata": {},
   "outputs": [
    {
     "data": {
      "text/plain": [
       "True"
      ]
     },
     "execution_count": 11,
     "metadata": {},
     "output_type": "execute_result"
    }
   ],
   "source": [
    "# create the collection with latest model and dimensionality given the model\n",
    "collection_name_q6 = \"q6-homework-w02\"\n",
    "model_handle_q6 = \"BAAI/bge-small-en\"\n",
    "EMBEDDING_DIMENSIONALITY_Q6 = 384 # here it needs to be the same of previous question list\n",
    "\n",
    "qd_client.delete_collection(collection_name_q6) \n",
    "\n",
    "qd_client.create_collection(\n",
    "    collection_name=collection_name_q6,\n",
    "    vectors_config=models.VectorParams(\n",
    "        size=EMBEDDING_DIMENSIONALITY_Q6, \n",
    "        distance=models.Distance.COSINE  \n",
    "    )\n",
    ")"
   ]
  },
  {
   "cell_type": "code",
   "execution_count": 12,
   "id": "0853d7c0",
   "metadata": {},
   "outputs": [
    {
     "data": {
      "text/plain": [
       "UpdateResult(operation_id=0, status=<UpdateStatus.COMPLETED: 'completed'>)"
      ]
     },
     "execution_count": 12,
     "metadata": {},
     "output_type": "execute_result"
    }
   ],
   "source": [
    "# embed and insert results into collection\n",
    "\n",
    "points = []\n",
    "\n",
    "for i, doc in enumerate(documents):\n",
    "    text = doc[\"question\"] + \" \" + doc[\"text\"] #combine question and answer for embedding text locally with \"BAAI/bge-small-en\" from FastEmbed\n",
    "    vector = models.Document(text=text, model=model_handle_q6)\n",
    "    point = models.PointStruct(\n",
    "        id=i,\n",
    "        vector=vector,\n",
    "        payload=doc\n",
    "    )\n",
    "    points.append(point)\n",
    "\n",
    "\n",
    "qd_client.upsert(\n",
    "    collection_name=collection_name_q6,\n",
    "    points=points\n",
    ")"
   ]
  },
  {
   "cell_type": "code",
   "execution_count": 13,
   "id": "eae8d53e",
   "metadata": {},
   "outputs": [],
   "source": [
    "def search_q6(query, limit=1):\n",
    "\n",
    "    results = qd_client.query_points(\n",
    "        collection_name=collection_name_q6,\n",
    "        query=models.Document(\n",
    "            text=query,\n",
    "            model=model_handle_q6 \n",
    "        ),\n",
    "        limit=limit, # top closest matches\n",
    "        with_payload=True #to get metadata in the results\n",
    "    )\n",
    "\n",
    "    return results"
   ]
  },
  {
   "cell_type": "code",
   "execution_count": 14,
   "id": "9d4235e0",
   "metadata": {},
   "outputs": [
    {
     "name": "stdout",
     "output_type": "stream",
     "text": [
      "\n",
      "the score of the first retrieved collection element is 0.8703172\n",
      "\n",
      "the prompt was: I just discovered the course. Can I join now?\n",
      "\n",
      "and the response: Yes, you can. You won’t be able to submit some of the homeworks, but you can still take part in the course.\n",
      "In order to get a certificate, you need to submit 2 out of 3 course projects and review 3 peers’ Projects by the deadline. It means that if you join the course at the end of November and manage to work on two projects, you will still be eligible for a certificate.\n"
     ]
    }
   ],
   "source": [
    "# get result and print score and payload\n",
    "result_q6 = search_q6(query_embedding)\n",
    "print(f\"\"\"\n",
    "the score of the first retrieved collection element is {result_q6.points[0].score}\n",
    "\\nthe prompt was: {query_embedding}\n",
    "\\nand the response: {result_q6.points[0].payload[\"text\"]}\"\"\"\n",
    ")"
   ]
  }
 ],
 "metadata": {
  "kernelspec": {
   "display_name": "venv",
   "language": "python",
   "name": "python3"
  },
  "language_info": {
   "codemirror_mode": {
    "name": "ipython",
    "version": 3
   },
   "file_extension": ".py",
   "mimetype": "text/x-python",
   "name": "python",
   "nbconvert_exporter": "python",
   "pygments_lexer": "ipython3",
   "version": "3.12.9"
  }
 },
 "nbformat": 4,
 "nbformat_minor": 5
}
