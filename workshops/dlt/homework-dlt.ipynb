{
 "cells": [
  {
   "cell_type": "code",
   "execution_count": 8,
   "id": "6db4fd9c",
   "metadata": {},
   "outputs": [],
   "source": [
    "import dlt\n",
    "import requests\n",
    "from dlt.destinations import qdrant\n",
    "import json"
   ]
  },
  {
   "cell_type": "markdown",
   "id": "76c394f9",
   "metadata": {},
   "source": [
    "### Q1 - dlt version installed"
   ]
  },
  {
   "cell_type": "code",
   "execution_count": 2,
   "id": "ffdd6cb4",
   "metadata": {},
   "outputs": [
    {
     "data": {
      "text/plain": [
       "'1.12.3'"
      ]
     },
     "execution_count": 2,
     "metadata": {},
     "output_type": "execute_result"
    }
   ],
   "source": [
    "dlt.__version__"
   ]
  },
  {
   "cell_type": "markdown",
   "id": "91a47ff2",
   "metadata": {},
   "source": [
    "### Q2 - number of inserted rows"
   ]
  },
  {
   "cell_type": "code",
   "execution_count": 6,
   "id": "303a2b74",
   "metadata": {},
   "outputs": [],
   "source": [
    "@dlt.resource\n",
    "def zoomcamp_data():\n",
    "    docs_url = 'https://github.com/alexeygrigorev/llm-rag-workshop/raw/main/notebooks/documents.json'\n",
    "    docs_response = requests.get(docs_url)\n",
    "    documents_raw = docs_response.json()\n",
    "\n",
    "    for course in documents_raw:\n",
    "        course_name = course['course']\n",
    "\n",
    "        for doc in course['documents']:\n",
    "            doc['course'] = course_name\n",
    "            yield doc"
   ]
  },
  {
   "cell_type": "code",
   "execution_count": null,
   "id": "bc4cbfd7",
   "metadata": {},
   "outputs": [
    {
     "data": {
      "application/vnd.jupyter.widget-view+json": {
       "model_id": "167d1252fa374762b0722bf3f2ac8e65",
       "version_major": 2,
       "version_minor": 0
      },
      "text/plain": [
       "Fetching 5 files:   0%|          | 0/5 [00:00<?, ?it/s]"
      ]
     },
     "metadata": {},
     "output_type": "display_data"
    },
    {
     "data": {
      "application/vnd.jupyter.widget-view+json": {
       "model_id": "b18102bbf4a4482eb693838ed9ceb3c2",
       "version_major": 2,
       "version_minor": 0
      },
      "text/plain": [
       "special_tokens_map.json:   0%|          | 0.00/125 [00:00<?, ?B/s]"
      ]
     },
     "metadata": {},
     "output_type": "display_data"
    },
    {
     "data": {
      "application/vnd.jupyter.widget-view+json": {
       "model_id": "e5463ff681d240079adf34b435b32d39",
       "version_major": 2,
       "version_minor": 0
      },
      "text/plain": [
       "tokenizer_config.json:   0%|          | 0.00/366 [00:00<?, ?B/s]"
      ]
     },
     "metadata": {},
     "output_type": "display_data"
    },
    {
     "data": {
      "application/vnd.jupyter.widget-view+json": {
       "model_id": "6ca6ee1740ae4f6cb87c28f49a06354a",
       "version_major": 2,
       "version_minor": 0
      },
      "text/plain": [
       "config.json:   0%|          | 0.00/701 [00:00<?, ?B/s]"
      ]
     },
     "metadata": {},
     "output_type": "display_data"
    },
    {
     "data": {
      "application/vnd.jupyter.widget-view+json": {
       "model_id": "7275834c8ce74164a6e7dd06052e4bbb",
       "version_major": 2,
       "version_minor": 0
      },
      "text/plain": [
       "tokenizer.json: 0.00B [00:00, ?B/s]"
      ]
     },
     "metadata": {},
     "output_type": "display_data"
    },
    {
     "data": {
      "application/vnd.jupyter.widget-view+json": {
       "model_id": "f95299085ee64a7ba889dfc66f3569fa",
       "version_major": 2,
       "version_minor": 0
      },
      "text/plain": [
       "model_optimized.onnx:   0%|          | 0.00/133M [00:00<?, ?B/s]"
      ]
     },
     "metadata": {},
     "output_type": "display_data"
    },
    {
     "name": "stdout",
     "output_type": "stream",
     "text": [
      "Run started at 2025-07-05 08:23:08.665903+00:00 and COMPLETED in 26.65 seconds with 4 steps.\n",
      "Step extract COMPLETED in 0.83 seconds.\n",
      "\n",
      "Load package 1751703811.902569 is EXTRACTED and NOT YET LOADED to the destination and contains no failed jobs\n",
      "\n",
      "Step normalize COMPLETED in 0.04 seconds.\n",
      "Normalized data for the following tables:\n",
      "- _dlt_pipeline_state: 1 row(s)\n",
      "- zoomcamp_data: 948 row(s)\n",
      "\n",
      "Load package 1751703811.902569 is NORMALIZED and NOT YET LOADED to the destination and contains no failed jobs\n",
      "\n",
      "Step load COMPLETED in 2.55 seconds.\n",
      "Pipeline zoomcamp_pipeline load step completed in 2.55 seconds\n",
      "1 load package(s) were loaded to destination qdrant and into dataset zoomcamp_tagged_data\n",
      "The qdrant destination used /Users/igor.dalbo/local_dev/llm-zoomcamp/workshops/dlt/db.qdrant location to store data\n",
      "Load package 1751703811.902569 is LOADED and contains no failed jobs\n",
      "\n",
      "Step run COMPLETED in 26.65 seconds.\n",
      "Pipeline zoomcamp_pipeline load step completed in 2.55 seconds\n",
      "1 load package(s) were loaded to destination qdrant and into dataset zoomcamp_tagged_data\n",
      "The qdrant destination used /Users/igor.dalbo/local_dev/llm-zoomcamp/workshops/dlt/db.qdrant location to store data\n",
      "Load package 1751703811.902569 is LOADED and contains no failed jobs\n"
     ]
    }
   ],
   "source": [
    "qdrant_destination = qdrant(\n",
    "  qd_path=\"db.qdrant\", \n",
    ")\n",
    "\n",
    "pipeline = dlt.pipeline(\n",
    "    pipeline_name=\"zoomcamp_pipeline\",\n",
    "    destination=qdrant_destination,\n",
    "    dataset_name=\"zoomcamp_tagged_data\"\n",
    "\n",
    ")\n",
    "load_info = pipeline.run(zoomcamp_data())\n",
    "print(pipeline.last_trace)\n",
    "# 948 were inserted into qdrant"
   ]
  },
  {
   "cell_type": "markdown",
   "id": "31cef655",
   "metadata": {},
   "source": [
    "### Q3 - embeddings"
   ]
  },
  {
   "cell_type": "code",
   "execution_count": 10,
   "id": "52d8aff6",
   "metadata": {},
   "outputs": [],
   "source": [
    "with open(\"db.qdrant/meta.json\", \"r\") as f:\n",
    "    meta = json.load(f)"
   ]
  },
  {
   "cell_type": "code",
   "execution_count": null,
   "id": "492b5a91",
   "metadata": {},
   "outputs": [
    {
     "name": "stdout",
     "output_type": "stream",
     "text": [
      "used model for embeddings is: dict_keys(['fast-bge-small-en'])\n",
      "used model for embeddings is: dict_keys(['fast-bge-small-en'])\n",
      "used model for embeddings is: dict_keys(['fast-bge-small-en'])\n",
      "used model for embeddings is: dict_keys(['fast-bge-small-en'])\n",
      "used model for embeddings is: dict_keys(['fast-bge-small-en'])\n"
     ]
    }
   ],
   "source": [
    "for key, values in meta[\"collections\"].items():\n",
    "    print(f\"used model for embeddings is: {values[\"vectors\"].keys()}\")"
   ]
  }
 ],
 "metadata": {
  "kernelspec": {
   "display_name": "venv",
   "language": "python",
   "name": "python3"
  },
  "language_info": {
   "codemirror_mode": {
    "name": "ipython",
    "version": 3
   },
   "file_extension": ".py",
   "mimetype": "text/x-python",
   "name": "python",
   "nbconvert_exporter": "python",
   "pygments_lexer": "ipython3",
   "version": "3.12.9"
  }
 },
 "nbformat": 4,
 "nbformat_minor": 5
}
